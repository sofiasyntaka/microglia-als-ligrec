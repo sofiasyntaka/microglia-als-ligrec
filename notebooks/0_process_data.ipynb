{
 "cells": [
  {
   "cell_type": "code",
   "execution_count": null,
   "id": "556d30ff-7472-4c3a-ab46-8093f1a70ae9",
   "metadata": {},
   "outputs": [],
   "source": [
    "import pandas as pd\n",
    "from pathlib import Path\n",
    "import json"
   ]
  },
  {
   "cell_type": "markdown",
   "id": "d00f1b4c-f813-4f5c-a3fc-5cd9535835bb",
   "metadata": {},
   "source": [
    "# Motor Neuron Bulk Transcriptomics"
   ]
  },
  {
   "cell_type": "code",
   "execution_count": null,
   "id": "e1a9cf27-5a8a-41f8-9f2e-2e18e2b944d8",
   "metadata": {},
   "outputs": [],
   "source": [
    "mn_path = Path(\"../data/GSE76220_norm_counts_TPM_GRCh38.p13_NCBI.tsv\")\n",
    "hgnc_path = Path(\"../data/hgnc_19270_genes_with_protein_product.txt\")\n",
    "\n",
    "hgnc = pd.read_table(hgnc_path, sep=\"\\t\")[['symbol', 'entrez_id']]\n",
    "\n",
    "expr = pd.read_table(mn_path, sep=\"\\t\", index_col=0)\n",
    "expr = expr.drop(columns=[\"GSM1977034\"])  # drop duplicated sample\n",
    "\n",
    "entrez_to_symbol = hgnc.set_index(\"entrez_id\")[\"symbol\"]\n",
    "\n",
    "# replace index\n",
    "expr.index = expr.index.map(entrez_to_symbol)\n",
    "\n",
    "# remove genes that didn't map (now NaN index)\n",
    "expr = expr[~expr.index.isna()]\n",
    "\n",
    "expr.to_csv(\"../data/mn_tpm.csv\")\n",
    "expr.head()"
   ]
  },
  {
   "cell_type": "markdown",
   "id": "ec8d83bc-1457-47c7-9ca2-5bf226738cd7",
   "metadata": {},
   "source": [
    "# iMG ALS upregulated ligands"
   ]
  },
  {
   "cell_type": "code",
   "execution_count": null,
   "id": "8326f677-578a-4061-956f-056ac3dfd30c",
   "metadata": {},
   "outputs": [],
   "source": [
    "def read_and_filter(path, sheet_idx):\n",
    "    df = pd.read_excel(path, sheet_name=sheet_idx)\n",
    "    gene_col = \"gene_symbol\"\n",
    "    padj_col = \"padj\"\n",
    "    lfc_col = \"log2FoldChange\"\n",
    "\n",
    "    df[padj_col] = pd.to_numeric(df[padj_col], errors=\"coerce\")\n",
    "    df[lfc_col] = pd.to_numeric(df[lfc_col],  errors=\"coerce\")\n",
    "\n",
    "    filt = (df[padj_col] < 0.05) & (df[lfc_col] > 0)\n",
    "    keep = df.loc[filt, gene_col].tolist()\n",
    "\n",
    "    return set(keep)\n"
   ]
  },
  {
   "cell_type": "code",
   "execution_count": null,
   "id": "116412aa-e6ef-4cbb-be7f-ef795a548b18",
   "metadata": {},
   "outputs": [],
   "source": [
    "mg_path = Path(\"../data/all_bioinformatics_results.xlsx\")\n",
    "\n",
    "mg_g29 = read_and_filter(\n",
    "    mg_path,\n",
    "    sheet_idx=2\n",
    ")\n",
    "mg_c9 = read_and_filter(\n",
    "    mg_path,\n",
    "    sheet_idx=3\n",
    ")\n",
    "mg_als = sorted(mg_g29 & mg_c9)\n",
    "print(f\"Number of overlapping upregulated genes: {len(mg_als)}\")\n",
    "\n",
    "with open(\"../data/mg_als_up_gene_list.json\", \"w\") as f:\n",
    "    json.dump(mg_als, f, indent=2)\n",
    "\n",
    "# also save G29 and C9 upregulated genes\n",
    "with open(\"../data/mg_g29_up_gene_list.json\", \"w\") as f:\n",
    "    json.dump(sorted(mg_g29), f, indent=2)\n",
    "with open(\"../data/mg_c9_up_gene_list.json\", \"w\") as f:\n",
    "    json.dump(sorted(mg_c9), f, indent=2)"
   ]
  }
 ],
 "metadata": {
  "kernelspec": {
   "display_name": "Python (als-env)",
   "language": "python",
   "name": "als-env"
  },
  "language_info": {
   "codemirror_mode": {
    "name": "ipython",
    "version": 3
   },
   "file_extension": ".py",
   "mimetype": "text/x-python",
   "name": "python",
   "nbconvert_exporter": "python",
   "pygments_lexer": "ipython3",
   "version": "3.11.14"
  }
 },
 "nbformat": 4,
 "nbformat_minor": 5
}
