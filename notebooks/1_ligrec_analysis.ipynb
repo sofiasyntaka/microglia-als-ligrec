{
 "cells": [
  {
   "cell_type": "code",
   "execution_count": null,
   "id": "ad70d7da-1bc5-467d-b95a-9d1cd8a7420f",
   "metadata": {},
   "outputs": [],
   "source": [
    "import pandas as pd\n",
    "import json"
   ]
  },
  {
   "cell_type": "markdown",
   "id": "7dc94f7b-670c-40ac-8d97-ef39e79c7432",
   "metadata": {},
   "source": [
    "# Load data"
   ]
  },
  {
   "cell_type": "code",
   "execution_count": null,
   "id": "b03d6d2e-ea79-4f24-bbe7-0c0f9560f6c6",
   "metadata": {},
   "outputs": [],
   "source": [
    "with open(\"../data/mg_als_up_gene_list.json\", \"r\") as f:\n",
    "    mg_als = json.load(f)\n",
    "#with open(\"../data/mg_g29_up_gene_list.json\", \"r\") as f:\n",
    "#    mg_g29 = json.load(f)\n",
    "#with open(\"../data/mg_c9_up_gene_list.json\", \"r\") as f:\n",
    "#    mg_c9 = json.load(f)\n",
    "\n",
    "mn_expr = pd.read_csv(\"../data/mn_tpm.csv\", index_col=0)\n",
    "\n",
    "ccdb = pd.read_csv(\"../data/interaction_input_CellChatDB.csv\", index_col=0)"
   ]
  },
  {
   "cell_type": "markdown",
   "id": "7a37e762-320b-4d23-ba53-b593d5cee136",
   "metadata": {},
   "source": [
    "# Extract ligand and receptors from CellChatDB"
   ]
  },
  {
   "cell_type": "code",
   "execution_count": null,
   "id": "43d64c09-6544-4603-9957-6c5da281acf7",
   "metadata": {},
   "outputs": [],
   "source": [
    "def _split_tokens(s):\n",
    "    \"\"\"Split by '_' into tokens, handle NaN/empty, strip whitespace, drop empty.\"\"\"\n",
    "    if pd.isna(s) or s == \"\":\n",
    "        return []\n",
    "    return [t.strip() for t in str(s).split('_') if t.strip() != \"\"]\n",
    "\n",
    "\n",
    "def extract_all_ligands(df, ligand_col=\"ligand\"):\n",
    "    \"\"\"\n",
    "    Unique set of tokens from the ligand column, splitting on '_'.\n",
    "    Returns a sorted list.\n",
    "    \"\"\"\n",
    "    tokens = (\n",
    "        df[ligand_col]\n",
    "        .astype(str)\n",
    "        .apply(_split_tokens)\n",
    "        .explode()\n",
    "        .dropna()\n",
    "    )\n",
    "    return sorted(tokens.unique())\n",
    "\n",
    "\n",
    "def extract_all_receptors(df, interaction_col=\"interaction_name\", ligand_col=\"ligand\"):\n",
    "    \"\"\"\n",
    "    For each row:\n",
    "      - split interaction_name and ligand by '_'\n",
    "      - take tokens in interaction_name that are NOT in ligand\n",
    "    Then union across all rows and return unique tokens (sorted list).\n",
    "    \"\"\"\n",
    "    inter_tokens = df[interaction_col].apply(_split_tokens)\n",
    "    lig_tokens = df[ligand_col].apply(_split_tokens)\n",
    "\n",
    "    # row-wise set difference\n",
    "    row_diffs = [\n",
    "        set(i) - set(l)\n",
    "        for i, l in zip(inter_tokens, lig_tokens)\n",
    "    ]\n",
    "\n",
    "    # merge to one unique set\n",
    "    unique = set().union(*row_diffs) if row_diffs else set()\n",
    "    return sorted(unique)"
   ]
  },
  {
   "cell_type": "code",
   "execution_count": null,
   "id": "b184476d-c816-4286-9536-17fa853557a3",
   "metadata": {},
   "outputs": [],
   "source": [
    "all_ligands = extract_all_ligands(ccdb, ligand_col=\"ligand\")\n",
    "all_receptors = extract_all_receptors(ccdb, interaction_col=\"interaction_name\", ligand_col=\"ligand\")\n",
    "print(f\"Number of interactions in CellChatDB: {ccdb.shape[0]}\")\n",
    "print(f\"Number of ligand genes in CellChatDB: {len(all_ligands)}\")\n",
    "print(f\"Number of receptor genes in CellChatDB: {len(all_receptors)}\")"
   ]
  },
  {
   "cell_type": "markdown",
   "id": "1652a036-3542-4751-96b7-d943a8b7a225",
   "metadata": {},
   "source": [
    "# Filter for expressed receptors in MN"
   ]
  },
  {
   "cell_type": "code",
   "execution_count": null,
   "id": "bd2d95ef-a5ad-4278-bb24-9ee081ba95c3",
   "metadata": {},
   "outputs": [],
   "source": [
    "tpm_thresholds = [0.5, 1, 2, 5, 7, 10]\n",
    "\n",
    "for i in tpm_thresholds:\n",
    "    mn_genes = mn_expr[mn_expr.gt(i).sum(axis=1) > (mn_expr.shape[1] * 0.5)].index.values\n",
    "    \n",
    "    print(f\"At TPM >= {i}, number of expressed genes in MN detected: {len(mn_genes)} \\\n",
    "    {len(sorted(set(mn_genes) & set(all_receptors)))} of which are receptors in CellChatDB\")"
   ]
  },
  {
   "cell_type": "markdown",
   "id": "3767a60e-3842-45a8-9428-8cf45e30b859",
   "metadata": {},
   "source": [
    "We decide the final threshold based on removal of known glial receptors while preserving the most receptors. In this case, it was 1."
   ]
  },
  {
   "cell_type": "code",
   "execution_count": null,
   "id": "345bc8ad-ebd6-4e0e-bcc0-5e695f718eeb",
   "metadata": {},
   "outputs": [],
   "source": [
    "mn_genes = mn_expr[mn_expr.ge(1).sum(axis=1) > (mn_expr.shape[1] * 0.5)].index.values\n",
    "mn_recs = sorted(set(mn_genes) & set(all_receptors))\n",
    "print(f\"Number of expressed genes in MN detected: {len(mn_genes)}\")\n",
    "print(f\"Number of which are receptors in CellChatDB: {len(mn_recs)}\")\n",
    "print(\"TPM > 1 is chosen because it includes more genes but filtered out clear microglial signals like CX3CR1 and TREM2\")"
   ]
  },
  {
   "cell_type": "markdown",
   "id": "5b376ce4-6174-42aa-93fa-4c7861402342",
   "metadata": {},
   "source": [
    "# Filter for ligands-of-interest in ALS MGs"
   ]
  },
  {
   "cell_type": "code",
   "execution_count": null,
   "id": "c914e9b2-498e-4f10-aad9-22144e1d8f33",
   "metadata": {
    "scrolled": true
   },
   "outputs": [],
   "source": [
    "mg_als_ligs = sorted(set(mg_als) & set(all_ligands))\n",
    "#mg_g29_ligs = sorted(set(mg_g29) & set(all_ligands))\n",
    "#mg_c9_ligs = sorted(set(mg_c9) & set(all_ligands))\n",
    "\n",
    "allowed = set(mn_recs) | set(mg_als_ligs)\n",
    "\n",
    "mask = ccdb['interaction_name'].apply(\n",
    "    lambda x: all(part in allowed for part in str(x).split('_'))\n",
    ")\n",
    "\n",
    "ccdb_filtered = ccdb[mask]\n",
    "\n",
    "ccdb_secreted = ccdb_filtered.loc[ccdb_filtered.annotation == \"Secreted Signaling\", :]\n",
    "\n",
    "ccdb_secreted.to_csv(\"../data/ccdb_als_mg_mn_lr_secreted.csv\")"
   ]
  }
 ],
 "metadata": {
  "kernelspec": {
   "display_name": "Python (als-env)",
   "language": "python",
   "name": "als-env"
  },
  "language_info": {
   "codemirror_mode": {
    "name": "ipython",
    "version": 3
   },
   "file_extension": ".py",
   "mimetype": "text/x-python",
   "name": "python",
   "nbconvert_exporter": "python",
   "pygments_lexer": "ipython3",
   "version": "3.11.14"
  }
 },
 "nbformat": 4,
 "nbformat_minor": 5
}
