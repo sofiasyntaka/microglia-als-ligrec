{
 "cells": [
  {
   "cell_type": "code",
   "execution_count": null,
   "id": "48c67c1b-c344-4d40-b74b-579529b8f2a9",
   "metadata": {},
   "outputs": [],
   "source": [
    "from __future__ import annotations\n",
    "from pathlib import Path\n",
    "import pandas as pd\n",
    "import numpy as np\n",
    "import plotly.offline as pyo\n",
    "import sys\n",
    "sys.path.append(str(Path().resolve().parent / \"src\"))\n",
    "from plotly_circos import (\n",
    "    build_lr_df,\n",
    "    build_chord_diagram_input,\n",
    "    chord_diagram\n",
    ")\n",
    "\n",
    "# Enable Plotly offline mode for Jupyter\n",
    "pyo.init_notebook_mode(connected=True)"
   ]
  },
  {
   "cell_type": "code",
   "execution_count": null,
   "id": "f942d35b-6e98-4725-bc4f-e82c85783f83",
   "metadata": {},
   "outputs": [],
   "source": [
    "ccdb_secreted = pd.read_csv(\"../data/ccdb_als_mg_mn_lr_secreted.csv\", index_col=0)\n",
    "\n",
    "all_lr_df_sorted, summary_dict = build_lr_df(ccdb_secreted)\n",
    "\n",
    "labels_full, M_full, groups = build_chord_diagram_input(all_lr_df_sorted, summary_dict)\n",
    "\n",
    "fig = chord_diagram(labels_full, M_full,\n",
    "                    title=\"ALS Microglia Ligands with Matched Motor Neuron Receptors\",\n",
    "                    plot_size=1800,\n",
    "                    gap_frac=0.005,\n",
    "                    ideo_outer=1.05,\n",
    "                    ideo_inner=1.0,\n",
    "                    groups=groups,\n",
    "                    group_gaps_deg=20.0,\n",
    "                    rotate_deg=16,\n",
    "                    label_radius_factor=1.2,\n",
    "                    label_font_size=32,\n",
    "                    group_ring=True,\n",
    "                    group_indices=groups,\n",
    "                    group_label=[\"ALS microglia ligands\", \"Motor neuron receptors\"],\n",
    "                    group_color=[\"#FFBF00\", \"#CD071E\"],\n",
    "                    group_ring_gap=0.2,  # space after label ring\n",
    "                    group_ring_width=0.05,  # band thickness\n",
    "                    group_label_size=44,\n",
    "                    group_label_color=\"black\")\n",
    "\n",
    "fig.write_html(\"../output/als_mg_to_mn_ligrec_chord_diagram.html\")\n",
    "\n",
    "pyo.iplot(fig)"
   ]
  }
 ],
 "metadata": {
  "kernelspec": {
   "display_name": "Python (als-env)",
   "language": "python",
   "name": "als-env"
  },
  "language_info": {
   "codemirror_mode": {
    "name": "ipython",
    "version": 3
   },
   "file_extension": ".py",
   "mimetype": "text/x-python",
   "name": "python",
   "nbconvert_exporter": "python",
   "pygments_lexer": "ipython3",
   "version": "3.11.14"
  }
 },
 "nbformat": 4,
 "nbformat_minor": 5
}
